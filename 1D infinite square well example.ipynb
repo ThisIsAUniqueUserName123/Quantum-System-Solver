{
 "cells": [
  {
   "cell_type": "code",
   "execution_count": null,
   "id": "0ce9df90-2514-4eec-b953-ceffc6b9b99f",
   "metadata": {},
   "outputs": [],
   "source": [
    "import numpy as np\n",
    "from src.LinearOperatorSystem import LinearOperatorSystem\n",
    "from src.BoundaryConditions import zero_boundary_condition \n",
    "\n",
    "# Define the coordinate grid \n",
    "cartesian_divisions = [1000]\n",
    "cartesian_bounds = [(-5, 5)]  # Domain boundaries\n",
    "\n",
    "# Build the cartesian system \n",
    "cartesian_system = LinearOperatorSystem(\n",
    "    bounds=cartesian_bounds,\n",
    "    num_divisions=cartesian_divisions,\n",
    "    operator_dict={\n",
    "        (2,): lambda x: -np.ones_like(x)/2,\n",
    "    },\n",
    "    boundary_conditions=[zero_boundary_condition(0)]\n",
    ")\n",
    "\n",
    "# Find the ground state solution\n",
    "_, psi_cartesian = cartesian_system.compute_eigenstates(1)\n",
    "cartesian_system.plot_eigenstates(psi_cartesian, 1, complex_tool=lambda x: np.abs(x)**2)"
   ]
  },
  {
   "cell_type": "code",
   "execution_count": null,
   "id": "53f38b95-8937-4735-a283-a0129535747e",
   "metadata": {},
   "outputs": [],
   "source": []
  }
 ],
 "metadata": {
  "kernelspec": {
   "display_name": "Python 3",
   "language": "python",
   "name": "python3"
  },
  "language_info": {
   "codemirror_mode": {
    "name": "ipython",
    "version": 3
   },
   "file_extension": ".py",
   "mimetype": "text/x-python",
   "name": "python",
   "nbconvert_exporter": "python",
   "pygments_lexer": "ipython3",
   "version": "3.13.5"
  }
 },
 "nbformat": 4,
 "nbformat_minor": 5
}
